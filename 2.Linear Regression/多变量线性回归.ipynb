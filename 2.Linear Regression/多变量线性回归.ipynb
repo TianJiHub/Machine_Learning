{
 "cells": [
  {
   "cell_type": "code",
   "id": "initial_id",
   "metadata": {
    "collapsed": true,
    "ExecuteTime": {
     "end_time": "2025-09-24T12:28:20.882491Z",
     "start_time": "2025-09-24T12:28:20.870671Z"
    }
   },
   "source": [
    "import numpy as np\n",
    "import matplotlib.pyplot as plt\n",
    "import pandas as pd"
   ],
   "outputs": [],
   "execution_count": 91
  },
  {
   "metadata": {
    "ExecuteTime": {
     "end_time": "2025-09-24T12:28:21.084202Z",
     "start_time": "2025-09-24T12:28:21.067338Z"
    }
   },
   "cell_type": "code",
   "source": [
    "plt.rcParams['font.sans-serif'] = ['SimHei'] # 设置中文显示\n",
    "plt.rcParams['axes.unicode_minus'] = False   # 设置符号显示"
   ],
   "id": "51e3d8cb3fa9660a",
   "outputs": [],
   "execution_count": 92
  },
  {
   "metadata": {
    "ExecuteTime": {
     "end_time": "2025-09-24T12:28:21.114606Z",
     "start_time": "2025-09-24T12:28:21.086713Z"
    }
   },
   "cell_type": "code",
   "source": [
    "path = './Datas/housing_price.csv'\n",
    "data = pd.read_csv(path)\n",
    "data.head()"
   ],
   "id": "e0168ba7f1f74000",
   "outputs": [
    {
     "data": {
      "text/plain": [
       "     面积  房间数      价格\n",
       "0  2104    3  399900\n",
       "1  1600    3  329900\n",
       "2  2400    3  369000\n",
       "3  1416    2  232000\n",
       "4  3000    4  539900"
      ],
      "text/html": [
       "<div>\n",
       "<style scoped>\n",
       "    .dataframe tbody tr th:only-of-type {\n",
       "        vertical-align: middle;\n",
       "    }\n",
       "\n",
       "    .dataframe tbody tr th {\n",
       "        vertical-align: top;\n",
       "    }\n",
       "\n",
       "    .dataframe thead th {\n",
       "        text-align: right;\n",
       "    }\n",
       "</style>\n",
       "<table border=\"1\" class=\"dataframe\">\n",
       "  <thead>\n",
       "    <tr style=\"text-align: right;\">\n",
       "      <th></th>\n",
       "      <th>面积</th>\n",
       "      <th>房间数</th>\n",
       "      <th>价格</th>\n",
       "    </tr>\n",
       "  </thead>\n",
       "  <tbody>\n",
       "    <tr>\n",
       "      <th>0</th>\n",
       "      <td>2104</td>\n",
       "      <td>3</td>\n",
       "      <td>399900</td>\n",
       "    </tr>\n",
       "    <tr>\n",
       "      <th>1</th>\n",
       "      <td>1600</td>\n",
       "      <td>3</td>\n",
       "      <td>329900</td>\n",
       "    </tr>\n",
       "    <tr>\n",
       "      <th>2</th>\n",
       "      <td>2400</td>\n",
       "      <td>3</td>\n",
       "      <td>369000</td>\n",
       "    </tr>\n",
       "    <tr>\n",
       "      <th>3</th>\n",
       "      <td>1416</td>\n",
       "      <td>2</td>\n",
       "      <td>232000</td>\n",
       "    </tr>\n",
       "    <tr>\n",
       "      <th>4</th>\n",
       "      <td>3000</td>\n",
       "      <td>4</td>\n",
       "      <td>539900</td>\n",
       "    </tr>\n",
       "  </tbody>\n",
       "</table>\n",
       "</div>"
      ]
     },
     "execution_count": 93,
     "metadata": {},
     "output_type": "execute_result"
    }
   ],
   "execution_count": 93
  },
  {
   "metadata": {},
   "cell_type": "markdown",
   "source": "# 数据标准化",
   "id": "3241cdc7d78ea68a"
  },
  {
   "metadata": {
    "ExecuteTime": {
     "end_time": "2025-09-24T12:28:21.145684Z",
     "start_time": "2025-09-24T12:28:21.118462Z"
    }
   },
   "cell_type": "code",
   "source": [
    "data = (data - data.mean()) / data.std()\n",
    "data.head()"
   ],
   "id": "e8683f66a28a6420",
   "outputs": [
    {
     "data": {
      "text/plain": [
       "         面积       房间数        价格\n",
       "0  0.130010 -0.223675  0.475747\n",
       "1 -0.504190 -0.223675 -0.084074\n",
       "2  0.502476 -0.223675  0.228626\n",
       "3 -0.735723 -1.537767 -0.867025\n",
       "4  1.257476  1.090417  1.595389"
      ],
      "text/html": [
       "<div>\n",
       "<style scoped>\n",
       "    .dataframe tbody tr th:only-of-type {\n",
       "        vertical-align: middle;\n",
       "    }\n",
       "\n",
       "    .dataframe tbody tr th {\n",
       "        vertical-align: top;\n",
       "    }\n",
       "\n",
       "    .dataframe thead th {\n",
       "        text-align: right;\n",
       "    }\n",
       "</style>\n",
       "<table border=\"1\" class=\"dataframe\">\n",
       "  <thead>\n",
       "    <tr style=\"text-align: right;\">\n",
       "      <th></th>\n",
       "      <th>面积</th>\n",
       "      <th>房间数</th>\n",
       "      <th>价格</th>\n",
       "    </tr>\n",
       "  </thead>\n",
       "  <tbody>\n",
       "    <tr>\n",
       "      <th>0</th>\n",
       "      <td>0.130010</td>\n",
       "      <td>-0.223675</td>\n",
       "      <td>0.475747</td>\n",
       "    </tr>\n",
       "    <tr>\n",
       "      <th>1</th>\n",
       "      <td>-0.504190</td>\n",
       "      <td>-0.223675</td>\n",
       "      <td>-0.084074</td>\n",
       "    </tr>\n",
       "    <tr>\n",
       "      <th>2</th>\n",
       "      <td>0.502476</td>\n",
       "      <td>-0.223675</td>\n",
       "      <td>0.228626</td>\n",
       "    </tr>\n",
       "    <tr>\n",
       "      <th>3</th>\n",
       "      <td>-0.735723</td>\n",
       "      <td>-1.537767</td>\n",
       "      <td>-0.867025</td>\n",
       "    </tr>\n",
       "    <tr>\n",
       "      <th>4</th>\n",
       "      <td>1.257476</td>\n",
       "      <td>1.090417</td>\n",
       "      <td>1.595389</td>\n",
       "    </tr>\n",
       "  </tbody>\n",
       "</table>\n",
       "</div>"
      ]
     },
     "execution_count": 94,
     "metadata": {},
     "output_type": "execute_result"
    }
   ],
   "execution_count": 94
  },
  {
   "metadata": {
    "ExecuteTime": {
     "end_time": "2025-09-24T12:28:21.176879Z",
     "start_time": "2025-09-24T12:28:21.149579Z"
    }
   },
   "cell_type": "code",
   "source": [
    "## 添加辅助项 Auxiliary 用来计算代价和梯度\n",
    "data.insert(0, 'Auxiliary', 1)\n",
    "data.head()"
   ],
   "id": "b0bab19d2211fb5",
   "outputs": [
    {
     "data": {
      "text/plain": [
       "   Auxiliary        面积       房间数        价格\n",
       "0          1  0.130010 -0.223675  0.475747\n",
       "1          1 -0.504190 -0.223675 -0.084074\n",
       "2          1  0.502476 -0.223675  0.228626\n",
       "3          1 -0.735723 -1.537767 -0.867025\n",
       "4          1  1.257476  1.090417  1.595389"
      ],
      "text/html": [
       "<div>\n",
       "<style scoped>\n",
       "    .dataframe tbody tr th:only-of-type {\n",
       "        vertical-align: middle;\n",
       "    }\n",
       "\n",
       "    .dataframe tbody tr th {\n",
       "        vertical-align: top;\n",
       "    }\n",
       "\n",
       "    .dataframe thead th {\n",
       "        text-align: right;\n",
       "    }\n",
       "</style>\n",
       "<table border=\"1\" class=\"dataframe\">\n",
       "  <thead>\n",
       "    <tr style=\"text-align: right;\">\n",
       "      <th></th>\n",
       "      <th>Auxiliary</th>\n",
       "      <th>面积</th>\n",
       "      <th>房间数</th>\n",
       "      <th>价格</th>\n",
       "    </tr>\n",
       "  </thead>\n",
       "  <tbody>\n",
       "    <tr>\n",
       "      <th>0</th>\n",
       "      <td>1</td>\n",
       "      <td>0.130010</td>\n",
       "      <td>-0.223675</td>\n",
       "      <td>0.475747</td>\n",
       "    </tr>\n",
       "    <tr>\n",
       "      <th>1</th>\n",
       "      <td>1</td>\n",
       "      <td>-0.504190</td>\n",
       "      <td>-0.223675</td>\n",
       "      <td>-0.084074</td>\n",
       "    </tr>\n",
       "    <tr>\n",
       "      <th>2</th>\n",
       "      <td>1</td>\n",
       "      <td>0.502476</td>\n",
       "      <td>-0.223675</td>\n",
       "      <td>0.228626</td>\n",
       "    </tr>\n",
       "    <tr>\n",
       "      <th>3</th>\n",
       "      <td>1</td>\n",
       "      <td>-0.735723</td>\n",
       "      <td>-1.537767</td>\n",
       "      <td>-0.867025</td>\n",
       "    </tr>\n",
       "    <tr>\n",
       "      <th>4</th>\n",
       "      <td>1</td>\n",
       "      <td>1.257476</td>\n",
       "      <td>1.090417</td>\n",
       "      <td>1.595389</td>\n",
       "    </tr>\n",
       "  </tbody>\n",
       "</table>\n",
       "</div>"
      ]
     },
     "execution_count": 95,
     "metadata": {},
     "output_type": "execute_result"
    }
   ],
   "execution_count": 95
  },
  {
   "metadata": {},
   "cell_type": "markdown",
   "source": "# 确定训练数据X 和 目标变量y",
   "id": "1efb675326a3d4ba"
  },
  {
   "metadata": {
    "ExecuteTime": {
     "end_time": "2025-09-24T12:28:21.207637Z",
     "start_time": "2025-09-24T12:28:21.184196Z"
    }
   },
   "cell_type": "code",
   "source": [
    "clos = data.shape[1]\n",
    "clos"
   ],
   "id": "68f373485ff4ae4b",
   "outputs": [
    {
     "data": {
      "text/plain": [
       "4"
      ]
     },
     "execution_count": 96,
     "metadata": {},
     "output_type": "execute_result"
    }
   ],
   "execution_count": 96
  },
  {
   "metadata": {
    "ExecuteTime": {
     "end_time": "2025-09-24T12:28:21.270495Z",
     "start_time": "2025-09-24T12:28:21.252140Z"
    }
   },
   "cell_type": "code",
   "source": [
    "X = data.iloc[:, 0:clos - 1]\n",
    "y = data.iloc[:, clos - 1:clos]"
   ],
   "id": "d760df42be1c4a1e",
   "outputs": [],
   "execution_count": 97
  },
  {
   "metadata": {
    "ExecuteTime": {
     "end_time": "2025-09-24T12:28:21.440891Z",
     "start_time": "2025-09-24T12:28:21.425120Z"
    }
   },
   "cell_type": "code",
   "source": "X, X.shape",
   "id": "211883e4b696f210",
   "outputs": [
    {
     "data": {
      "text/plain": [
       "(    Auxiliary        面积       房间数\n",
       " 0           1  0.130010 -0.223675\n",
       " 1           1 -0.504190 -0.223675\n",
       " 2           1  0.502476 -0.223675\n",
       " 3           1 -0.735723 -1.537767\n",
       " 4           1  1.257476  1.090417\n",
       " 5           1 -0.019732  1.090417\n",
       " 6           1 -0.587240 -0.223675\n",
       " 7           1 -0.721881 -0.223675\n",
       " 8           1 -0.781023 -0.223675\n",
       " 9           1 -0.637573 -0.223675\n",
       " 10          1 -0.076357  1.090417\n",
       " 11          1 -0.000857 -0.223675\n",
       " 12          1 -0.139273 -0.223675\n",
       " 13          1  3.117292  2.404508\n",
       " 14          1 -0.921956 -0.223675\n",
       " 15          1  0.376643  1.090417\n",
       " 16          1 -0.856523 -1.537767\n",
       " 17          1 -0.962223 -0.223675\n",
       " 18          1  0.765468  1.090417\n",
       " 19          1  1.296484  1.090417\n",
       " 20          1 -0.294048 -0.223675\n",
       " 21          1 -0.141790 -1.537767\n",
       " 22          1 -0.499157 -0.223675\n",
       " 23          1 -0.048673  1.090417\n",
       " 24          1  2.377392 -0.223675\n",
       " 25          1 -1.133356 -0.223675\n",
       " 26          1 -0.682873 -0.223675\n",
       " 27          1  0.661026 -0.223675\n",
       " 28          1  0.250810 -0.223675\n",
       " 29          1  0.800701 -0.223675\n",
       " 30          1 -0.203448 -1.537767\n",
       " 31          1 -1.259189 -2.851859\n",
       " 32          1  0.049477  1.090417\n",
       " 33          1  1.429868 -0.223675\n",
       " 34          1 -0.238682  1.090417\n",
       " 35          1 -0.709298 -0.223675\n",
       " 36          1 -0.958448 -0.223675\n",
       " 37          1  0.165243  1.090417\n",
       " 38          1  2.786350  1.090417\n",
       " 39          1  0.202993  1.090417\n",
       " 40          1 -0.423657 -1.537767\n",
       " 41          1  0.298626 -0.223675\n",
       " 42          1  0.712618  1.090417\n",
       " 43          1 -1.007523 -0.223675\n",
       " 44          1 -1.445423 -1.537767\n",
       " 45          1 -0.187090  1.090417\n",
       " 46          1 -1.003748 -0.223675,\n",
       " (47, 3))"
      ]
     },
     "execution_count": 98,
     "metadata": {},
     "output_type": "execute_result"
    }
   ],
   "execution_count": 98
  },
  {
   "metadata": {
    "ExecuteTime": {
     "end_time": "2025-09-24T12:28:21.814257Z",
     "start_time": "2025-09-24T12:28:21.793202Z"
    }
   },
   "cell_type": "code",
   "source": "y, y.shape",
   "id": "b37e3e2ab1d63e55",
   "outputs": [
    {
     "data": {
      "text/plain": [
       "(          价格\n",
       " 0   0.475747\n",
       " 1  -0.084074\n",
       " 2   0.228626\n",
       " 3  -0.867025\n",
       " 4   1.595389\n",
       " 5  -0.323998\n",
       " 6  -0.204036\n",
       " 7  -1.130948\n",
       " 8  -1.026973\n",
       " 9  -0.783051\n",
       " 10 -0.803053\n",
       " 11  0.052682\n",
       " 12 -0.083283\n",
       " 13  2.874981\n",
       " 14 -0.643896\n",
       " 15  0.875619\n",
       " 16 -0.323998\n",
       " 17 -1.123743\n",
       " 18  1.276275\n",
       " 19  2.068039\n",
       " 20 -0.699878\n",
       " 21 -0.683083\n",
       " 22 -0.779852\n",
       " 23 -0.643896\n",
       " 24  1.867303\n",
       " 25 -0.723870\n",
       " 26  0.992382\n",
       " 27  1.028370\n",
       " 28  1.076355\n",
       " 29 -0.323998\n",
       " 30  0.075875\n",
       " 31 -1.363666\n",
       " 32 -0.204036\n",
       " 33  1.915287\n",
       " 34 -0.435962\n",
       " 35 -0.723870\n",
       " 36 -0.883819\n",
       " 37  0.036687\n",
       " 38  1.668166\n",
       " 39 -0.427165\n",
       " 40  0.224627\n",
       " 41 -0.084074\n",
       " 42 -0.211234\n",
       " 43 -0.331196\n",
       " 44 -1.283692\n",
       " 45 -0.323998\n",
       " 46 -0.807044,\n",
       " (47, 1))"
      ]
     },
     "execution_count": 99,
     "metadata": {},
     "output_type": "execute_result"
    }
   ],
   "execution_count": 99
  },
  {
   "metadata": {},
   "cell_type": "markdown",
   "source": "# 初始化 `特征变量X` `目标变量y` `权重w`",
   "id": "baffa4deca073f55"
  },
  {
   "metadata": {
    "ExecuteTime": {
     "end_time": "2025-09-24T12:28:22.154594Z",
     "start_time": "2025-09-24T12:28:22.142836Z"
    }
   },
   "cell_type": "code",
   "source": [
    "X = X.values\n",
    "y = y.values\n",
    "w = np.zeros((X.shape[1], 1))"
   ],
   "id": "693208d8b8dde703",
   "outputs": [],
   "execution_count": 100
  },
  {
   "metadata": {
    "ExecuteTime": {
     "end_time": "2025-09-24T12:28:22.341870Z",
     "start_time": "2025-09-24T12:28:22.331914Z"
    }
   },
   "cell_type": "code",
   "source": "X.shape, y.shape, w.shape",
   "id": "5bca3f7994073b54",
   "outputs": [
    {
     "data": {
      "text/plain": [
       "((47, 3), (47, 1), (3, 1))"
      ]
     },
     "execution_count": 101,
     "metadata": {},
     "output_type": "execute_result"
    }
   ],
   "execution_count": 101
  },
  {
   "metadata": {},
   "cell_type": "markdown",
   "source": "# 构建代价函数",
   "id": "3b68953976bbfac1"
  },
  {
   "metadata": {
    "ExecuteTime": {
     "end_time": "2025-09-24T12:28:22.465401Z",
     "start_time": "2025-09-24T12:28:22.457665Z"
    }
   },
   "cell_type": "code",
   "source": [
    "def computeCost(X, y, w):\n",
    "    \"\"\"\n",
    "    构建线性模型的代价函数\n",
    "    :param X: 特征变量，形状为 [n_samples, n_features]\n",
    "    :param y: 目标变量，形状为 [n_samples, 1]\n",
    "    :param w: 权重向量，形状为 [n_features, 1]\n",
    "    :return: 代价函数值\n",
    "    \"\"\"\n",
    "    # 计算预测值与实际值之差的平方和\n",
    "    inner = np.power(X @ w -y, 2)\n",
    "    \n",
    "    # 对平方和进行求和，并处以样本数量的两倍，得到代价函数的值\n",
    "    output = np.sum(inner) / (2 * len(X))\n",
    "    \n",
    "    return output"
   ],
   "id": "819e5aecc14a39af",
   "outputs": [],
   "execution_count": 102
  },
  {
   "metadata": {
    "ExecuteTime": {
     "end_time": "2025-09-24T12:28:22.542793Z",
     "start_time": "2025-09-24T12:28:22.526676Z"
    }
   },
   "cell_type": "code",
   "source": "computeCost(X, y, w)",
   "id": "56cddd2af0d64bc1",
   "outputs": [
    {
     "data": {
      "text/plain": [
       "0.48936170212765967"
      ]
     },
     "execution_count": 103,
     "metadata": {},
     "output_type": "execute_result"
    }
   ],
   "execution_count": 103
  },
  {
   "metadata": {},
   "cell_type": "markdown",
   "source": "# 构建小批量梯度下降算法",
   "id": "d506ec9dd6de3e5c"
  },
  {
   "metadata": {
    "ExecuteTime": {
     "end_time": "2025-09-24T12:28:22.589646Z",
     "start_time": "2025-09-24T12:28:22.581563Z"
    }
   },
   "cell_type": "code",
   "source": [
    "def batch_gradientDescent(X, y, w, alpha, count):\n",
    "    \"\"\"\n",
    "    小批量梯度下降算法\n",
    "    :param X: 特征矩阵，形状为 [n_samples, n_features]\n",
    "    :param y: 标签向量，形状为 [n_samples, 1]\n",
    "    :param w: 权重向量，形状为 [n_features, 1]\n",
    "    :param alpha: 学习率 \n",
    "    :param count: 迭代次数\n",
    "    :return: \n",
    "        - w: 更新后的权重向量\n",
    "        - costs: 每次迭代的代价函数值列表\n",
    "    \"\"\"\n",
    "    # 初始化代价函数值列表\n",
    "    costs = []\n",
    "    \n",
    "    # 对每个样本进行迭代\n",
    "    for i in range(count):\n",
    "        # 根据公式更新权重向量\n",
    "        w = w - (X.T @ (X @ w - y) * alpha / len(X))\n",
    "        \n",
    "        # 计算当前代价函数并添加到列表中\n",
    "        cost = computeCost(X, y, w)\n",
    "        costs.append(cost)\n",
    "        \n",
    "        # 每隔100次迭代输出一次当前代价函数值\n",
    "        if i % 100 == 0:\n",
    "            print(f'在第{i}次迭代中，cost的值是：{cost}')\n",
    "        \n",
    "    return w, costs"
   ],
   "id": "679c613b8754cd64",
   "outputs": [],
   "execution_count": 104
  },
  {
   "metadata": {},
   "cell_type": "markdown",
   "source": "# 初始化附加变量-学习率α和要执行的迭代次数",
   "id": "c27e0dd2aae379cb"
  },
  {
   "metadata": {
    "ExecuteTime": {
     "end_time": "2025-09-24T12:28:22.620383Z",
     "start_time": "2025-09-24T12:28:22.611237Z"
    }
   },
   "cell_type": "code",
   "source": [
    "alpha = 0.01\n",
    "iters = 2000"
   ],
   "id": "675b2bdab4ec247",
   "outputs": [],
   "execution_count": 105
  },
  {
   "metadata": {},
   "cell_type": "markdown",
   "source": "# 执行梯度下降算法，使得参数θ适合于训练集",
   "id": "3283e11021249dd1"
  },
  {
   "metadata": {
    "ExecuteTime": {
     "end_time": "2025-09-24T12:28:22.810543Z",
     "start_time": "2025-09-24T12:28:22.701605Z"
    }
   },
   "cell_type": "code",
   "source": "w, costs = batch_gradientDescent(X, y, w, alpha, iters)",
   "id": "52a70123ca59126e",
   "outputs": [
    {
     "name": "stdout",
     "output_type": "stream",
     "text": [
      "在第0次迭代中，cost的值是：0.4805491041076719\n",
      "在第100次迭代中，cost的值是：0.18209443801333897\n",
      "在第200次迭代中，cost的值是：0.1479382495738683\n",
      "在第300次迭代中，cost的值是：0.1377591345050687\n",
      "在第400次迭代中，cost的值是：0.1336603777249612\n",
      "在第500次迭代中，cost的值是：0.1319404652949001\n",
      "在第600次迭代中，cost的值是：0.13121540352412622\n",
      "在第700次迭代中，cost的值是：0.13090958448719198\n",
      "在第800次迭代中，cost的值是：0.13078058791637864\n",
      "在第900次迭代中，cost的值是：0.13072617594607358\n",
      "在第1000次迭代中，cost的值是：0.13070322444853422\n",
      "在第1100次迭代中，cost的值是：0.1306935432832584\n",
      "在第1200次迭代中，cost的值是：0.13068945967339024\n",
      "在第1300次迭代中，cost的值是：0.1306877371669466\n",
      "在第1400次迭代中，cost的值是：0.13068701059694005\n",
      "在第1500次迭代中，cost的值是：0.13068670412262967\n",
      "在第1600次迭代中，cost的值是：0.13068657484877846\n",
      "在第1700次迭代中，cost的值是：0.130686520319808\n",
      "在第1800次迭代中，cost的值是：0.13068649731895685\n",
      "在第1900次迭代中，cost的值是：0.13068648761697357\n"
     ]
    }
   ],
   "execution_count": 106
  },
  {
   "metadata": {},
   "cell_type": "markdown",
   "source": "# 获得权重向量",
   "id": "96295d1265a0f03c"
  },
  {
   "metadata": {
    "ExecuteTime": {
     "end_time": "2025-09-24T12:28:22.919871Z",
     "start_time": "2025-09-24T12:28:22.903716Z"
    }
   },
   "cell_type": "code",
   "source": "print(w)",
   "id": "3fb840530cc670df",
   "outputs": [
    {
     "name": "stdout",
     "output_type": "stream",
     "text": [
      "[[-9.95066913e-17]\n",
      " [ 8.84682367e-01]\n",
      " [-5.30951990e-02]]\n"
     ]
    }
   ],
   "execution_count": 107
  },
  {
   "metadata": {
    "ExecuteTime": {
     "end_time": "2025-09-24T12:28:22.998459Z",
     "start_time": "2025-09-24T12:28:22.971239Z"
    }
   },
   "cell_type": "code",
   "source": "computeCost(X, y, w)",
   "id": "c9a960655ed17540",
   "outputs": [
    {
     "data": {
      "text/plain": [
       "0.1306864835504653"
      ]
     },
     "execution_count": 108,
     "metadata": {},
     "output_type": "execute_result"
    }
   ],
   "execution_count": 108
  },
  {
   "metadata": {},
   "cell_type": "markdown",
   "source": "# 可视化模型训练损失随训练的Epoch变化",
   "id": "4eb11544fa320b86"
  },
  {
   "metadata": {
    "ExecuteTime": {
     "end_time": "2025-09-24T12:28:23.371548Z",
     "start_time": "2025-09-24T12:28:23.140057Z"
    }
   },
   "cell_type": "code",
   "source": [
    "# 创建图形和轴对象\n",
    "fig, ax = plt.subplots(figsize=(12, 8))\n",
    "# 绘制代价值随迭代次数的变化曲线\n",
    "ax.plot(np.arange(iters), costs, 'r')\n",
    "# 设置x轴和y轴\n",
    "ax.set_xlabel('迭代次数', fontsize=18)\n",
    "ax.set_ylabel('代价', rotation=0, fontsize=18)\n",
    "# 设置图标题\n",
    "ax.set_title('误差和训练Epoch数', fontsize=18)\n",
    "# 显示图形\n",
    "plt.show()"
   ],
   "id": "14a3eeeeff7048a7",
   "outputs": [
    {
     "data": {
      "text/plain": [
       "<Figure size 1200x800 with 1 Axes>"
      ],
      "image/png": "[encoded data removed]"
     },
     "metadata": {},
     "output_type": "display_data"
    }
   ],
   "execution_count": 109
  },
  {
   "metadata": {
    "ExecuteTime": {
     "end_time": "2025-09-24T12:28:23.387503Z",
     "start_time": "2025-09-24T12:28:23.375434Z"
    }
   },
   "cell_type": "code",
   "source": "",
   "id": "a61ada16f48e4131",
   "outputs": [],
   "execution_count": 109
  }
 ],
 "metadata": {
  "kernelspec": {
   "display_name": "Python 3",
   "language": "python",
   "name": "python3"
  },
  "language_info": {
   "codemirror_mode": {
    "name": "ipython",
    "version": 2
   },
   "file_extension": ".py",
   "mimetype": "text/x-python",
   "name": "python",
   "nbconvert_exporter": "python",
   "pygments_lexer": "ipython2",
   "version": "2.7.6"
  }
 },
 "nbformat": 4,
 "nbformat_minor": 5
}
