{
 "cells": [
  {
   "cell_type": "code",
   "id": "initial_id",
   "metadata": {
    "collapsed": true,
    "ExecuteTime": {
     "end_time": "2025-09-24T04:16:02.563488Z",
     "start_time": "2025-09-24T04:16:02.547099Z"
    }
   },
   "source": [
    "import numpy as np\n",
    "import pandas as pd\n",
    "import matplotlib.pyplot as plt"
   ],
   "outputs": [],
   "execution_count": 2
  },
  {
   "metadata": {
    "ExecuteTime": {
     "end_time": "2025-09-24T04:18:05.785781Z",
     "start_time": "2025-09-24T04:18:05.770769Z"
    }
   },
   "cell_type": "code",
   "source": [
    "plt.rcParams['font.sans-serif'] = ['SimHei'] # 正常显示中文\n",
    "plt.rcParams['axes.unicode_minus'] = False    # 正常显示符号"
   ],
   "id": "4f43a90051985118",
   "outputs": [],
   "execution_count": 4
  },
  {
   "metadata": {
    "ExecuteTime": {
     "end_time": "2025-09-24T04:26:53.482823Z",
     "start_time": "2025-09-24T04:26:53.429342Z"
    }
   },
   "cell_type": "code",
   "source": [
    "path = './Datas/population_benefit_data.csv'\n",
    "data = pd.read_csv(path)\n",
    "data.head()"
   ],
   "id": "476f39532eea45a8",
   "outputs": [
    {
     "data": {
      "text/plain": [
       "       人口       收益\n",
       "0  6.1101  17.5920\n",
       "1  5.5277   9.1302\n",
       "2  8.5186  13.6620\n",
       "3  7.0032  11.8540\n",
       "4  5.8598   6.8233"
      ],
      "text/html": [
       "<div>\n",
       "<style scoped>\n",
       "    .dataframe tbody tr th:only-of-type {\n",
       "        vertical-align: middle;\n",
       "    }\n",
       "\n",
       "    .dataframe tbody tr th {\n",
       "        vertical-align: top;\n",
       "    }\n",
       "\n",
       "    .dataframe thead th {\n",
       "        text-align: right;\n",
       "    }\n",
       "</style>\n",
       "<table border=\"1\" class=\"dataframe\">\n",
       "  <thead>\n",
       "    <tr style=\"text-align: right;\">\n",
       "      <th></th>\n",
       "      <th>人口</th>\n",
       "      <th>收益</th>\n",
       "    </tr>\n",
       "  </thead>\n",
       "  <tbody>\n",
       "    <tr>\n",
       "      <th>0</th>\n",
       "      <td>6.1101</td>\n",
       "      <td>17.5920</td>\n",
       "    </tr>\n",
       "    <tr>\n",
       "      <th>1</th>\n",
       "      <td>5.5277</td>\n",
       "      <td>9.1302</td>\n",
       "    </tr>\n",
       "    <tr>\n",
       "      <th>2</th>\n",
       "      <td>8.5186</td>\n",
       "      <td>13.6620</td>\n",
       "    </tr>\n",
       "    <tr>\n",
       "      <th>3</th>\n",
       "      <td>7.0032</td>\n",
       "      <td>11.8540</td>\n",
       "    </tr>\n",
       "    <tr>\n",
       "      <th>4</th>\n",
       "      <td>5.8598</td>\n",
       "      <td>6.8233</td>\n",
       "    </tr>\n",
       "  </tbody>\n",
       "</table>\n",
       "</div>"
      ]
     },
     "execution_count": 5,
     "metadata": {},
     "output_type": "execute_result"
    }
   ],
   "execution_count": 5
  },
  {
   "metadata": {
    "ExecuteTime": {
     "end_time": "2025-09-24T04:29:13.416891Z",
     "start_time": "2025-09-24T04:29:13.389406Z"
    }
   },
   "cell_type": "code",
   "source": "data.describe()",
   "id": "d00473f92245d103",
   "outputs": [
    {
     "data": {
      "text/plain": [
       "              人口         收益\n",
       "count  97.000000  97.000000\n",
       "mean    8.159800   5.839135\n",
       "std     3.869884   5.510262\n",
       "min     5.026900  -2.680700\n",
       "25%     5.707700   1.986900\n",
       "50%     6.589400   4.562300\n",
       "75%     8.578100   7.046700\n",
       "max    22.203000  24.147000"
      ],
      "text/html": [
       "<div>\n",
       "<style scoped>\n",
       "    .dataframe tbody tr th:only-of-type {\n",
       "        vertical-align: middle;\n",
       "    }\n",
       "\n",
       "    .dataframe tbody tr th {\n",
       "        vertical-align: top;\n",
       "    }\n",
       "\n",
       "    .dataframe thead th {\n",
       "        text-align: right;\n",
       "    }\n",
       "</style>\n",
       "<table border=\"1\" class=\"dataframe\">\n",
       "  <thead>\n",
       "    <tr style=\"text-align: right;\">\n",
       "      <th></th>\n",
       "      <th>人口</th>\n",
       "      <th>收益</th>\n",
       "    </tr>\n",
       "  </thead>\n",
       "  <tbody>\n",
       "    <tr>\n",
       "      <th>count</th>\n",
       "      <td>97.000000</td>\n",
       "      <td>97.000000</td>\n",
       "    </tr>\n",
       "    <tr>\n",
       "      <th>mean</th>\n",
       "      <td>8.159800</td>\n",
       "      <td>5.839135</td>\n",
       "    </tr>\n",
       "    <tr>\n",
       "      <th>std</th>\n",
       "      <td>3.869884</td>\n",
       "      <td>5.510262</td>\n",
       "    </tr>\n",
       "    <tr>\n",
       "      <th>min</th>\n",
       "      <td>5.026900</td>\n",
       "      <td>-2.680700</td>\n",
       "    </tr>\n",
       "    <tr>\n",
       "      <th>25%</th>\n",
       "      <td>5.707700</td>\n",
       "      <td>1.986900</td>\n",
       "    </tr>\n",
       "    <tr>\n",
       "      <th>50%</th>\n",
       "      <td>6.589400</td>\n",
       "      <td>4.562300</td>\n",
       "    </tr>\n",
       "    <tr>\n",
       "      <th>75%</th>\n",
       "      <td>8.578100</td>\n",
       "      <td>7.046700</td>\n",
       "    </tr>\n",
       "    <tr>\n",
       "      <th>max</th>\n",
       "      <td>22.203000</td>\n",
       "      <td>24.147000</td>\n",
       "    </tr>\n",
       "  </tbody>\n",
       "</table>\n",
       "</div>"
      ]
     },
     "execution_count": 6,
     "metadata": {},
     "output_type": "execute_result"
    }
   ],
   "execution_count": 6
  },
  {
   "metadata": {
    "ExecuteTime": {
     "end_time": "2025-09-24T04:31:36.625084Z",
     "start_time": "2025-09-24T04:31:36.303909Z"
    }
   },
   "cell_type": "code",
   "source": [
    "# 1.数据分布可视化\n",
    "data.plot(kind='scatter', x='人口', y='收益', figsize=(10, 6))\n",
    "plt.xlabel('人口', fontsize=10)\n",
    "plt.ylabel('收益', fontsize=10)\n",
    "plt.show()"
   ],
   "id": "9b39ce08916dc517",
   "outputs": [
    {
     "data": {
      "text/plain": [
       "<Figure size 1000x600 with 1 Axes>"
      ],
      "image/png": "[encoded data removed]"
     },
     "metadata": {},
     "output_type": "display_data"
    }
   ],
   "execution_count": 7
  },
  {
   "metadata": {},
   "cell_type": "markdown",
   "source": "对数据进行可视化分析后，很明显可以观察到数据都是一个个散点，但是从整体上看该数据分布有一个特征：`随着横坐标x人口数量的增长，纵坐标y收益也随之增长`，那么我们可以组略的总结概括该样本数据整体上`在数学上的表现是线性的`。",
   "id": "c91a1c919075f252"
  },
  {
   "metadata": {},
   "cell_type": "markdown",
   "source": [
    "由于在如上数据中，`自变量x-人口` `因变量y-收益`，二者之间的关系是线性的，那么我们可以用归纳为 `y = kx + b`\n",
    "- `k` 为x的`权重`，也就是斜率\n",
    "- `b` 为`偏置项`，也就是常数项"
   ],
   "id": "8abfb493304b69f0"
  },
  {
   "metadata": {},
   "cell_type": "markdown",
   "source": [
    "# 使用梯度下降来实现线性回归，从而[最小化代价函数](../1.Base/1.10 梯度下降.md)\n",
    "> [!NOTE]\n",
    "> 代价函数也就是损失函数，简单理解就是使用梯度下降来使得损失降到最低\n",
    "> 首先我们创建一个以参数 $w$ 为特征函数的代价函数，注意$w$为特征函数\n",
    "> $ J(x) = \\\\frac{1}{2m}\\\\sum\\\\limits_{i=1}^{m}{{{\\\\left( {{h}}\\\\left( {{x}^{(i)}} \\\\right)-{{y}^{(i)}} \\\\right)}^{2}}} $\n",
    "> 其中 $ h(x) = w^{T}*X = w_0 * x_0 + w_1 * x_1 + w_2 * x_2 + ... + w_n * x_n $"
   ],
   "id": "cad59c441625911c"
  },
  {
   "metadata": {
    "ExecuteTime": {
     "end_time": "2025-09-24T05:08:28.561512Z",
     "start_time": "2025-09-24T05:08:28.527981Z"
    }
   },
   "cell_type": "code",
   "source": [
    "def computeCost(X, y, w):\n",
    "    \"\"\"\n",
    "    计算线性回归模型的代价函数\n",
    "    :param X: 特征矩阵，形状为[n_samples, n_features]\n",
    "    :param y: 标签向量，形状为[n_samples, 1]\n",
    "    :param w: 权重向量，形状为[n_features, 1]\n",
    "    :return: 代价函数的值\n",
    "    \"\"\"\n",
    "    # 计算预测值与实际值之差的平方和\n",
    "    inner = np.power(X @ w -y, 2)\n",
    "    \n",
    "    # 对平方和进行求和，并处以样本数量的两倍，得到代价函数的值\n",
    "    output = np.sum(inner) / (2 * len(X))\n",
    "    \n",
    "    return output"
   ],
   "id": "4e2af58173e2cba2",
   "outputs": [],
   "execution_count": 8
  },
  {
   "metadata": {
    "ExecuteTime": {
     "end_time": "2025-09-24T05:10:52.745100Z",
     "start_time": "2025-09-24T05:10:52.713082Z"
    }
   },
   "cell_type": "code",
   "source": [
    "# 在训练集中添加一列(插入值全为1)，用来计算代价和梯度\n",
    "data.insert(0, \"Auxiliary\", 1)\n",
    "data"
   ],
   "id": "fc250b6f4c85fb63",
   "outputs": [
    {
     "data": {
      "text/plain": [
       "    Auxiliary       人口        收益\n",
       "0           1   6.1101  17.59200\n",
       "1           1   5.5277   9.13020\n",
       "2           1   8.5186  13.66200\n",
       "3           1   7.0032  11.85400\n",
       "4           1   5.8598   6.82330\n",
       "..        ...      ...       ...\n",
       "92          1   5.8707   7.20290\n",
       "93          1   5.3054   1.98690\n",
       "94          1   8.2934   0.14454\n",
       "95          1  13.3940   9.05510\n",
       "96          1   5.4369   0.61705\n",
       "\n",
       "[97 rows x 3 columns]"
      ],
      "text/html": [
       "<div>\n",
       "<style scoped>\n",
       "    .dataframe tbody tr th:only-of-type {\n",
       "        vertical-align: middle;\n",
       "    }\n",
       "\n",
       "    .dataframe tbody tr th {\n",
       "        vertical-align: top;\n",
       "    }\n",
       "\n",
       "    .dataframe thead th {\n",
       "        text-align: right;\n",
       "    }\n",
       "</style>\n",
       "<table border=\"1\" class=\"dataframe\">\n",
       "  <thead>\n",
       "    <tr style=\"text-align: right;\">\n",
       "      <th></th>\n",
       "      <th>Auxiliary</th>\n",
       "      <th>人口</th>\n",
       "      <th>收益</th>\n",
       "    </tr>\n",
       "  </thead>\n",
       "  <tbody>\n",
       "    <tr>\n",
       "      <th>0</th>\n",
       "      <td>1</td>\n",
       "      <td>6.1101</td>\n",
       "      <td>17.59200</td>\n",
       "    </tr>\n",
       "    <tr>\n",
       "      <th>1</th>\n",
       "      <td>1</td>\n",
       "      <td>5.5277</td>\n",
       "      <td>9.13020</td>\n",
       "    </tr>\n",
       "    <tr>\n",
       "      <th>2</th>\n",
       "      <td>1</td>\n",
       "      <td>8.5186</td>\n",
       "      <td>13.66200</td>\n",
       "    </tr>\n",
       "    <tr>\n",
       "      <th>3</th>\n",
       "      <td>1</td>\n",
       "      <td>7.0032</td>\n",
       "      <td>11.85400</td>\n",
       "    </tr>\n",
       "    <tr>\n",
       "      <th>4</th>\n",
       "      <td>1</td>\n",
       "      <td>5.8598</td>\n",
       "      <td>6.82330</td>\n",
       "    </tr>\n",
       "    <tr>\n",
       "      <th>...</th>\n",
       "      <td>...</td>\n",
       "      <td>...</td>\n",
       "      <td>...</td>\n",
       "    </tr>\n",
       "    <tr>\n",
       "      <th>92</th>\n",
       "      <td>1</td>\n",
       "      <td>5.8707</td>\n",
       "      <td>7.20290</td>\n",
       "    </tr>\n",
       "    <tr>\n",
       "      <th>93</th>\n",
       "      <td>1</td>\n",
       "      <td>5.3054</td>\n",
       "      <td>1.98690</td>\n",
       "    </tr>\n",
       "    <tr>\n",
       "      <th>94</th>\n",
       "      <td>1</td>\n",
       "      <td>8.2934</td>\n",
       "      <td>0.14454</td>\n",
       "    </tr>\n",
       "    <tr>\n",
       "      <th>95</th>\n",
       "      <td>1</td>\n",
       "      <td>13.3940</td>\n",
       "      <td>9.05510</td>\n",
       "    </tr>\n",
       "    <tr>\n",
       "      <th>96</th>\n",
       "      <td>1</td>\n",
       "      <td>5.4369</td>\n",
       "      <td>0.61705</td>\n",
       "    </tr>\n",
       "  </tbody>\n",
       "</table>\n",
       "<p>97 rows × 3 columns</p>\n",
       "</div>"
      ]
     },
     "execution_count": 9,
     "metadata": {},
     "output_type": "execute_result"
    }
   ],
   "execution_count": 9
  },
  {
   "metadata": {},
   "cell_type": "markdown",
   "source": "# 初始化变量",
   "id": "91883ae885488f8e"
  },
  {
   "metadata": {
    "ExecuteTime": {
     "end_time": "2025-09-24T05:13:42.509539Z",
     "start_time": "2025-09-24T05:13:42.483998Z"
    }
   },
   "cell_type": "code",
   "source": [
    "# 获取data的列数\n",
    "cols = data.shape[1]\n",
    "\n",
    "# 获取除最后一列外的所有列作为特征矩阵X\n",
    "X = data.iloc[:, :cols - 1]\n",
    "\n",
    "# 获取最后一列作为目标变量\n",
    "y = data.iloc[:, cols - 1:]"
   ],
   "id": "6063f88870a59b4e",
   "outputs": [],
   "execution_count": 10
  },
  {
   "metadata": {},
   "cell_type": "markdown",
   "source": "# 检验初始化 `特征变量X` `目标变量` 形状是否正确",
   "id": "9779617f3ee00221"
  },
  {
   "metadata": {
    "ExecuteTime": {
     "end_time": "2025-09-24T05:14:27.924689Z",
     "start_time": "2025-09-24T05:14:27.910467Z"
    }
   },
   "cell_type": "code",
   "source": "X.head()",
   "id": "ee7afc5046013248",
   "outputs": [
    {
     "data": {
      "text/plain": [
       "   Auxiliary      人口\n",
       "0          1  6.1101\n",
       "1          1  5.5277\n",
       "2          1  8.5186\n",
       "3          1  7.0032\n",
       "4          1  5.8598"
      ],
      "text/html": [
       "<div>\n",
       "<style scoped>\n",
       "    .dataframe tbody tr th:only-of-type {\n",
       "        vertical-align: middle;\n",
       "    }\n",
       "\n",
       "    .dataframe tbody tr th {\n",
       "        vertical-align: top;\n",
       "    }\n",
       "\n",
       "    .dataframe thead th {\n",
       "        text-align: right;\n",
       "    }\n",
       "</style>\n",
       "<table border=\"1\" class=\"dataframe\">\n",
       "  <thead>\n",
       "    <tr style=\"text-align: right;\">\n",
       "      <th></th>\n",
       "      <th>Auxiliary</th>\n",
       "      <th>人口</th>\n",
       "    </tr>\n",
       "  </thead>\n",
       "  <tbody>\n",
       "    <tr>\n",
       "      <th>0</th>\n",
       "      <td>1</td>\n",
       "      <td>6.1101</td>\n",
       "    </tr>\n",
       "    <tr>\n",
       "      <th>1</th>\n",
       "      <td>1</td>\n",
       "      <td>5.5277</td>\n",
       "    </tr>\n",
       "    <tr>\n",
       "      <th>2</th>\n",
       "      <td>1</td>\n",
       "      <td>8.5186</td>\n",
       "    </tr>\n",
       "    <tr>\n",
       "      <th>3</th>\n",
       "      <td>1</td>\n",
       "      <td>7.0032</td>\n",
       "    </tr>\n",
       "    <tr>\n",
       "      <th>4</th>\n",
       "      <td>1</td>\n",
       "      <td>5.8598</td>\n",
       "    </tr>\n",
       "  </tbody>\n",
       "</table>\n",
       "</div>"
      ]
     },
     "execution_count": 11,
     "metadata": {},
     "output_type": "execute_result"
    }
   ],
   "execution_count": 11
  },
  {
   "metadata": {
    "ExecuteTime": {
     "end_time": "2025-09-24T05:14:37.649476Z",
     "start_time": "2025-09-24T05:14:37.637307Z"
    }
   },
   "cell_type": "code",
   "source": "y.head()",
   "id": "331de021e71842ef",
   "outputs": [
    {
     "data": {
      "text/plain": [
       "        收益\n",
       "0  17.5920\n",
       "1   9.1302\n",
       "2  13.6620\n",
       "3  11.8540\n",
       "4   6.8233"
      ],
      "text/html": [
       "<div>\n",
       "<style scoped>\n",
       "    .dataframe tbody tr th:only-of-type {\n",
       "        vertical-align: middle;\n",
       "    }\n",
       "\n",
       "    .dataframe tbody tr th {\n",
       "        vertical-align: top;\n",
       "    }\n",
       "\n",
       "    .dataframe thead th {\n",
       "        text-align: right;\n",
       "    }\n",
       "</style>\n",
       "<table border=\"1\" class=\"dataframe\">\n",
       "  <thead>\n",
       "    <tr style=\"text-align: right;\">\n",
       "      <th></th>\n",
       "      <th>收益</th>\n",
       "    </tr>\n",
       "  </thead>\n",
       "  <tbody>\n",
       "    <tr>\n",
       "      <th>0</th>\n",
       "      <td>17.5920</td>\n",
       "    </tr>\n",
       "    <tr>\n",
       "      <th>1</th>\n",
       "      <td>9.1302</td>\n",
       "    </tr>\n",
       "    <tr>\n",
       "      <th>2</th>\n",
       "      <td>13.6620</td>\n",
       "    </tr>\n",
       "    <tr>\n",
       "      <th>3</th>\n",
       "      <td>11.8540</td>\n",
       "    </tr>\n",
       "    <tr>\n",
       "      <th>4</th>\n",
       "      <td>6.8233</td>\n",
       "    </tr>\n",
       "  </tbody>\n",
       "</table>\n",
       "</div>"
      ]
     },
     "execution_count": 12,
     "metadata": {},
     "output_type": "execute_result"
    }
   ],
   "execution_count": 12
  },
  {
   "metadata": {},
   "cell_type": "markdown",
   "source": "# 初始化代价函数 w",
   "id": "eb7f943365806bca"
  },
  {
   "metadata": {
    "ExecuteTime": {
     "end_time": "2025-09-24T05:18:24.396792Z",
     "start_time": "2025-09-24T05:18:24.378755Z"
    }
   },
   "cell_type": "code",
   "source": [
    "X = X.values\n",
    "y = y.values\n",
    "w = np.zeros((X.shape[1], 1))"
   ],
   "id": "17702c036ea94aeb",
   "outputs": [],
   "execution_count": 14
  },
  {
   "metadata": {
    "ExecuteTime": {
     "end_time": "2025-09-24T05:18:37.253497Z",
     "start_time": "2025-09-24T05:18:37.245496Z"
    }
   },
   "cell_type": "code",
   "source": [
    "# w现在是一个形状为（2，1）的二维数组，2代表两个特征\n",
    "print(w)"
   ],
   "id": "4d98479afbffaf6b",
   "outputs": [
    {
     "name": "stdout",
     "output_type": "stream",
     "text": [
      "[[0.]\n",
      " [0.]]\n"
     ]
    }
   ],
   "execution_count": 16
  },
  {
   "metadata": {},
   "cell_type": "markdown",
   "source": "# 检验所有初始化维度",
   "id": "2f9636743509b30c"
  },
  {
   "metadata": {
    "ExecuteTime": {
     "end_time": "2025-09-24T05:19:31.041677Z",
     "start_time": "2025-09-24T05:19:31.029663Z"
    }
   },
   "cell_type": "code",
   "source": "X.shape, w.shape, y.shape",
   "id": "69154263f8031a7b",
   "outputs": [
    {
     "data": {
      "text/plain": [
       "((97, 2), (2, 1), (97, 1))"
      ]
     },
     "execution_count": 17,
     "metadata": {},
     "output_type": "execute_result"
    }
   ],
   "execution_count": 17
  },
  {
   "metadata": {},
   "cell_type": "markdown",
   "source": "# 初始化代价函数",
   "id": "4b89a6a2a9b6ddc8"
  },
  {
   "metadata": {
    "ExecuteTime": {
     "end_time": "2025-09-24T05:20:07.232963Z",
     "start_time": "2025-09-24T05:20:07.212968Z"
    }
   },
   "cell_type": "code",
   "source": "computeCost(X, y, w)",
   "id": "6e1a6e70a050f9e2",
   "outputs": [
    {
     "data": {
      "text/plain": [
       "32.072733877455676"
      ]
     },
     "execution_count": 18,
     "metadata": {},
     "output_type": "execute_result"
    }
   ],
   "execution_count": 18
  },
  {
   "metadata": {},
   "cell_type": "markdown",
   "source": "# 批量梯度下降算法",
   "id": "fba3f7de73f4deba"
  },
  {
   "metadata": {
    "ExecuteTime": {
     "end_time": "2025-09-24T05:20:30.939109Z",
     "start_time": "2025-09-24T05:20:30.930071Z"
    }
   },
   "cell_type": "code",
   "source": [
    "def batch_gradientDescent(X, y, w, alpha, count):\n",
    "    \"\"\"\n",
    "    :param X: 特征矩阵，形状为[n_samples, n_features]\n",
    "    :param y: 标签向量，形状为[n_samples, 1]\n",
    "    :param w: 权重向量，形状为[n_features, 1]\n",
    "    :param alpha: 学习率\n",
    "    :param count: 迭代次数\n",
    "    :return: \n",
    "        - w: 更新后的权重向量\n",
    "        - costs: 每次迭代的代价函数值列表\n",
    "    \"\"\"\n",
    "    # 初始化代价函数值列表\n",
    "    costs = []\n",
    "    \n",
    "    # 对每个样本进行迭代\n",
    "    for i in range(count):\n",
    "        # 根据公式更新权重向量\n",
    "        w = w - (X.T @ (X @ w - y) * alpha / len(X))\n",
    "        \n",
    "        # 计算当前代价函数值并添加到列表中\n",
    "        cost = computeCost(X, y, w)\n",
    "        costs.append(cost)\n",
    "        \n",
    "        # 每隔100次迭代输出一次当前代价函数值（损失值）\n",
    "        if i % 100 == 0:\n",
    "            print(f\"在第{i}次迭代中，cost的值是：{cost}\")\n",
    "    \n",
    "    # 返回最终的权重向量、代价函数值列表\n",
    "    return w, costs"
   ],
   "id": "c7c0d3d3a06b227b",
   "outputs": [],
   "execution_count": 19
  },
  {
   "metadata": {},
   "cell_type": "markdown",
   "source": "# 初始化附加变量-学习速率α和要执行的迭代次数",
   "id": "19dd5775592c0209"
  },
  {
   "metadata": {
    "ExecuteTime": {
     "end_time": "2025-09-24T05:21:26.861578Z",
     "start_time": "2025-09-24T05:21:26.849035Z"
    }
   },
   "cell_type": "code",
   "source": [
    "alpha = 0.01\n",
    "iters = 2000"
   ],
   "id": "ee54488999ff3b0",
   "outputs": [],
   "execution_count": 20
  },
  {
   "metadata": {},
   "cell_type": "markdown",
   "source": "# 执行梯度下降算法，使得参数θ适合于训练集",
   "id": "9a482b041fdfe6d8"
  },
  {
   "metadata": {
    "ExecuteTime": {
     "end_time": "2025-09-24T05:22:07.144626Z",
     "start_time": "2025-09-24T05:22:07.097725Z"
    }
   },
   "cell_type": "code",
   "source": "w, costs = batch_gradientDescent(X, y, w, alpha, iters)",
   "id": "3edc821d960a5b98",
   "outputs": [
    {
     "name": "stdout",
     "output_type": "stream",
     "text": [
      "在第0次迭代中，cost的值是：6.737190464870011\n",
      "在第100次迭代中，cost的值是：5.476362817272741\n",
      "在第200次迭代中，cost的值是：5.173634551165022\n",
      "在第300次迭代中，cost的值是：4.962606493117519\n",
      "在第400次迭代中，cost的值是：4.815501494116686\n",
      "在第500次迭代中，cost的值是：4.712956453749759\n",
      "在第600次迭代中，cost的值是：4.6414735988143185\n",
      "在第700次迭代中，cost的值是：4.591643801766726\n",
      "在第800次迭代中，cost的值是：4.5569080784097515\n",
      "在第900次迭代中，cost的值是：4.532694243543437\n",
      "在第1000次迭代中，cost的值是：4.515815084502823\n",
      "在第1100次迭代中，cost的值是：4.504048835517841\n",
      "在第1200次迭代中，cost的值是：4.49584673167822\n",
      "在第1300次迭代中，cost的值是：4.490129148489064\n",
      "在第1400次迭代中，cost的值是：4.486143493324961\n",
      "在第1500次迭代中，cost的值是：4.483365143354072\n",
      "在第1600次迭代中，cost的值是：4.481428390613829\n",
      "在第1700次迭代中，cost的值是：4.480078304693718\n",
      "在第1800次迭代中，cost的值是：4.479137176818275\n",
      "在第1900次迭代中，cost的值是：4.478481128440361\n"
     ]
    }
   ],
   "execution_count": 21
  },
  {
   "metadata": {},
   "cell_type": "markdown",
   "source": "## 检验权重向量",
   "id": "1cd90f14e970d72"
  },
  {
   "metadata": {
    "ExecuteTime": {
     "end_time": "2025-09-24T05:23:16.075510Z",
     "start_time": "2025-09-24T05:23:16.064981Z"
    }
   },
   "cell_type": "code",
   "source": "print(w)",
   "id": "7f08ef9eee688a76",
   "outputs": [
    {
     "name": "stdout",
     "output_type": "stream",
     "text": [
      "[[-3.78806857]\n",
      " [ 1.18221277]]\n"
     ]
    }
   ],
   "execution_count": 22
  },
  {
   "metadata": {},
   "cell_type": "markdown",
   "source": "# 使用拟合的参数 w 计算训练模型的代价函数（误差）",
   "id": "db4594a328f02df4"
  },
  {
   "metadata": {
    "ExecuteTime": {
     "end_time": "2025-09-24T05:24:01.506613Z",
     "start_time": "2025-09-24T05:24:01.494095Z"
    }
   },
   "cell_type": "code",
   "source": "computeCost(X, y, w)",
   "id": "226cabf5104260d1",
   "outputs": [
    {
     "data": {
      "text/plain": [
       "4.4780276098799705"
      ]
     },
     "execution_count": 23,
     "metadata": {},
     "output_type": "execute_result"
    }
   ],
   "execution_count": 23
  },
  {
   "metadata": {},
   "cell_type": "markdown",
   "source": "> 初始代价函数为32.072733877455676，使用拟合后的参数w计算得来的损失为4.4780276098799705",
   "id": "42881e9d0582ab9b"
  },
  {
   "metadata": {},
   "cell_type": "markdown",
   "source": "# 绘制线性模型以及数据，可视化拟合结果",
   "id": "fa957e46092faaf8"
  },
  {
   "metadata": {
    "ExecuteTime": {
     "end_time": "2025-09-24T05:25:58.343817Z",
     "start_time": "2025-09-24T05:25:58.109588Z"
    }
   },
   "cell_type": "code",
   "source": [
    "# 生成预测值\n",
    "x = np.linspace(data['人口'].min(), data['人口'].max(), 100)\n",
    "# 根据参数估计值生成预测值\n",
    "f = w[0, 0] + (w[1, 0] * x)\n",
    "# 创建图形和轴对象\n",
    "fig, ax = plt.subplots(figsize=(12, 8))\n",
    "# 绘制预测值曲线\n",
    "ax.plot(x, f, 'r', label='预测值')\n",
    "# 绘制训练数据散点图\n",
    "ax.scatter(data['人口'], data['收益'], label='训练数据')\n",
    "# 添加图例\n",
    "ax.legend(loc=2)\n",
    "# 设置x轴和y轴标签\n",
    "ax.set_xlabel('人口', fontsize=18)\n",
    "ax.set_ylabel('收益', rotation=0, fontsize=18)\n",
    "# 设置图标题\n",
    "ax.set_title('预测收益和人口规模', fontsize=18)\n",
    "# 显示图形\n",
    "plt.show()"
   ],
   "id": "d528984afff97988",
   "outputs": [
    {
     "data": {
      "text/plain": [
       "<Figure size 1200x800 with 1 Axes>"
      ],
      "image/png": "[encoded data removed]"
     },
     "metadata": {},
     "output_type": "display_data"
    }
   ],
   "execution_count": 24
  },
  {
   "metadata": {},
   "cell_type": "markdown",
   "source": "> 由于梯度方程式函数也在每个训练迭代中输出一个代价的向量，所以我们也可以绘制。 请注意，代价总是降低 - 这是凸优化问题的一个例子。",
   "id": "dfacff10870c89ca"
  },
  {
   "metadata": {},
   "cell_type": "markdown",
   "source": "## 可视化模型训练的损失随训练Epoch的变化",
   "id": "65677474d25354d8"
  },
  {
   "metadata": {
    "ExecuteTime": {
     "end_time": "2025-09-24T05:27:04.987763Z",
     "start_time": "2025-09-24T05:27:04.833895Z"
    }
   },
   "cell_type": "code",
   "source": [
    "# 创建图形和轴对象\n",
    "fig, ax = plt.subplots(figsize=(12, 8))\n",
    "# 绘制代价随迭代次数的变化曲线\n",
    "ax.plot(np.arange(iters), costs, 'r')\n",
    "# 设置x轴和y轴标签\n",
    "ax.set_xlabel('迭代次数', fontsize=18)\n",
    "ax.set_ylabel('代价', rotation=0, fontsize=18)\n",
    "# 设置图标题\n",
    "ax.set_title('误差和训练Epoch数', fontsize=18)\n",
    "# 显示图形\n",
    "plt.show()"
   ],
   "id": "ecad8c45f97287c2",
   "outputs": [
    {
     "data": {
      "text/plain": [
       "<Figure size 1200x800 with 1 Axes>"
      ],
      "image/png": "[encoded data removed]"
     },
     "metadata": {},
     "output_type": "display_data"
    }
   ],
   "execution_count": 25
  },
  {
   "metadata": {},
   "cell_type": "code",
   "outputs": [],
   "execution_count": null,
   "source": "",
   "id": "9d350efb61a4da48"
  }
 ],
 "metadata": {
  "kernelspec": {
   "display_name": "Python 3",
   "language": "python",
   "name": "python3"
  },
  "language_info": {
   "codemirror_mode": {
    "name": "ipython",
    "version": 2
   },
   "file_extension": ".py",
   "mimetype": "text/x-python",
   "name": "python",
   "nbconvert_exporter": "python",
   "pygments_lexer": "ipython2",
   "version": "2.7.6"
  }
 },
 "nbformat": 4,
 "nbformat_minor": 5
}
